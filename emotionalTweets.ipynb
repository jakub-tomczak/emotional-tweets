{
 "cells": [
  {
   "cell_type": "code",
   "execution_count": 1,
   "metadata": {
    "pycharm": {}
   },
   "outputs": [],
   "source": [
    "from data_loader import load_dataset\n"
   ]
  },
  {
   "cell_type": "markdown",
   "metadata": {},
   "source": [
    "# Ładowanie zbioru danych\n",
    "\n",
    "Zbiór danych składa się z dwóch plików `test.csv` oraz `train.csv`, które mają następujące wymiary oraz atrybuty:"
   ]
  },
  {
   "cell_type": "code",
   "execution_count": 22,
   "metadata": {
    "pycharm": {
     "metadata": false,
     "name": "#%%\n"
    },
    "scrolled": true
   },
   "outputs": [
    {
     "name": "stdout",
     "output_type": "stream",
     "text": [
      "train.csv\n",
      "wymiar:  (5970, 3) \n",
      "atrybuty: ['Id' 'Category' 'Tweet']\n",
      "\n",
      "test.csv\n",
      "wymiar:  (9968, 2) \n",
      "atrybuty: ['Id' 'Tweet']\n"
     ]
    }
   ],
   "source": [
    "train, test = load_dataset()\n",
    "print('train.csv\\nwymiar: ', train.shape, '\\natrybuty:', train.columns.values)\n",
    "print()\n",
    "print('test.csv\\nwymiar: ', test.shape, '\\natrybuty:', test.columns.values)"
   ]
  },
  {
   "cell_type": "code",
   "execution_count": 35,
   "metadata": {},
   "outputs": [],
   "source": [
    "train_tweets = train.Tweet"
   ]
  },
  {
   "cell_type": "code",
   "execution_count": 24,
   "metadata": {},
   "outputs": [],
   "source": [
    "from nltk.classify import NaiveBayesClassifier\n",
    "from nltk.sentiment import SentimentAnalyzer\n",
    "from nltk.sentiment.util import *"
   ]
  },
  {
   "cell_type": "code",
   "execution_count": 46,
   "metadata": {},
   "outputs": [
    {
     "name": "stdout",
     "output_type": "stream",
     "text": [
      "Tokenizer downloaded\n"
     ]
    },
    {
     "name": "stderr",
     "output_type": "stream",
     "text": [
      "[nltk_data] Downloading package punkt to\n",
      "[nltk_data]     C:\\Users\\Jakub\\AppData\\Roaming\\nltk_data...\n",
      "[nltk_data]   Package punkt is already up-to-date!\n"
     ]
    }
   ],
   "source": [
    "# initialize tokenizer\n",
    "from nltk_helper import initialize_tokenizer\n",
    "tokenizer_initialized = initialize_tokenizer()"
   ]
  },
  {
   "cell_type": "code",
   "execution_count": null,
   "metadata": {},
   "outputs": [],
   "source": [
    "def tokenize_sentences(sentences):\n",
    "    "
   ]
  },
  {
   "cell_type": "code",
   "execution_count": 37,
   "metadata": {},
   "outputs": [
    {
     "name": "stderr",
     "output_type": "stream",
     "text": [
      "[nltk_data] Downloading package punkt to\n",
      "[nltk_data]     C:\\Users\\Jakub\\AppData\\Roaming\\nltk_data...\n",
      "[nltk_data]   Unzipping tokenizers\\punkt.zip.\n"
     ]
    }
   ],
   "source": [
    "n_instances = documents.shape[0]\n",
    "tokenized = [nltk.word_tokenize(tweet) for tweet in train_tweets]"
   ]
  },
  {
   "cell_type": "code",
   "execution_count": 39,
   "metadata": {},
   "outputs": [
    {
     "name": "stdout",
     "output_type": "stream",
     "text": [
      "Not Available \t ['Not', 'Available']\n",
      "IOS 9 App Transport Security. Mm need to check if my 3rd party network pod supports it http://t.co/fmtcfUAdgj \t ['IOS', '9', 'App', 'Transport', 'Security', '.', 'Mm', 'need', 'to', 'check', 'if', 'my', '3rd', 'party', 'network', 'pod', 'supports', 'it', 'http', ':', '//t.co/fmtcfUAdgj']\n",
      "Mar if you have an iOS device, you should download our app too: http://t.co/gl3tn2uDnD \t ['Mar', 'if', 'you', 'have', 'an', 'iOS', 'device', ',', 'you', 'should', 'download', 'our', 'app', 'too', ':', 'http', ':', '//t.co/gl3tn2uDnD']\n",
      "@jimmie_vanagon my phone does not run on latest IOS which may account for problem the other day .. time it was replaced \t ['@', 'jimmie_vanagon', 'my', 'phone', 'does', 'not', 'run', 'on', 'latest', 'IOS', 'which', 'may', 'account', 'for', 'problem', 'the', 'other', 'day', '..', 'time', 'it', 'was', 'replaced']\n",
      "Not sure how to start your publication on iOS? We'll be live helping with ask me anything sessions today and Friday http://t.co/KPqqGjjh3x \t ['Not', 'sure', 'how', 'to', 'start', 'your', 'publication', 'on', 'iOS', '?', 'We', \"'ll\", 'be', 'live', 'helping', 'with', 'ask', 'me', 'anything', 'sessions', 'today', 'and', 'Friday', 'http', ':', '//t.co/KPqqGjjh3x']\n",
      "Two Dollar Tuesday is here with Forklift 2, QuickKey for iOS and Suite for Pages for just $1.99 today:   http://t.co/BNMFOEACw5 \t ['Two', 'Dollar', 'Tuesday', 'is', 'here', 'with', 'Forklift', '2', ',', 'QuickKey', 'for', 'iOS', 'and', 'Suite', 'for', 'Pages', 'for', 'just', '$', '1.99', 'today', ':', 'http', ':', '//t.co/BNMFOEACw5']\n",
      "If you're not already signed up to test my iOS game, nows your chance! https://t.co/eZhIU6EDpQ \t ['If', 'you', \"'re\", 'not', 'already', 'signed', 'up', 'to', 'test', 'my', 'iOS', 'game', ',', 'nows', 'your', 'chance', '!', 'https', ':', '//t.co/eZhIU6EDpQ']\n",
      "YouTube Gaming Officially Launches On Web, Android, iOS On August 26: YouTube is finally going to r... http://t.co/qbhyA3kaWP #webseries \t ['YouTube', 'Gaming', 'Officially', 'Launches', 'On', 'Web', ',', 'Android', ',', 'iOS', 'On', 'August', '26', ':', 'YouTube', 'is', 'finally', 'going', 'to', 'r', '...', 'http', ':', '//t.co/qbhyA3kaWP', '#', 'webseries']\n",
      "YouTube Gaming Launches Tomorrow with iOS and Android Apps to Go Head-to-Head with Twitch http://t.co/yZOATToeJC #ios #game \t ['YouTube', 'Gaming', 'Launches', 'Tomorrow', 'with', 'iOS', 'and', 'Android', 'Apps', 'to', 'Go', 'Head-to-Head', 'with', 'Twitch', 'http', ':', '//t.co/yZOATToeJC', '#', 'ios', '#', 'game']\n",
      "@astrill Yashan from BBC @bbcchinese the VPN access on IOS may be limited during China's military parade? Any chance to have a chat on that? \t ['@', 'astrill', 'Yashan', 'from', 'BBC', '@', 'bbcchinese', 'the', 'VPN', 'access', 'on', 'IOS', 'may', 'be', 'limited', 'during', 'China', \"'s\", 'military', 'parade', '?', 'Any', 'chance', 'to', 'have', 'a', 'chat', 'on', 'that', '?']\n",
      "Parkrun app for iOS downloaded Where have you been before ?Great app easier access of info &amp; ready for Saturday's run http://t.co/ZyOFhZeRIO \t ['Parkrun', 'app', 'for', 'iOS', 'downloaded', 'Where', 'have', 'you', 'been', 'before', '?', 'Great', 'app', 'easier', 'access', 'of', 'info', '&', 'amp', ';', 'ready', 'for', 'Saturday', \"'s\", 'run', 'http', ':', '//t.co/ZyOFhZeRIO']\n",
      "Today @YouTubeGaming launches, with apps for iOS and Android devices in the US and UK, here is what you need to know http://t.co/Kf8DgnHX9b \t ['Today', '@', 'YouTubeGaming', 'launches', ',', 'with', 'apps', 'for', 'iOS', 'and', 'Android', 'devices', 'in', 'the', 'US', 'and', 'UK', ',', 'here', 'is', 'what', 'you', 'need', 'to', 'know', 'http', ':', '//t.co/Kf8DgnHX9b']\n",
      "Got a project you want to work on? Need help with Swift? Need an excuse to hang with iOS devs on a Sat? Hang with us! http://t.co/pUWsKbDfWe \t ['Got', 'a', 'project', 'you', 'want', 'to', 'work', 'on', '?', 'Need', 'help', 'with', 'Swift', '?', 'Need', 'an', 'excuse', 'to', 'hang', 'with', 'iOS', 'devs', 'on', 'a', 'Sat', '?', 'Hang', 'with', 'us', '!', 'http', ':', '//t.co/pUWsKbDfWe']\n",
      "Met with iOS Developer today. We may have a \"go\". 8-) \t ['Met', 'with', 'iOS', 'Developer', 'today', '.', 'We', 'may', 'have', 'a', '``', 'go', \"''\", '.', '8-', ')']\n",
      "#CrossSkyHigh is going IOS #saturday. For now try this http://t.co/Jrc6ktK9rT #indiedev @GamerRTer @ShoutGamers http://t.co/bkWUjKEmju \t ['#', 'CrossSkyHigh', 'is', 'going', 'IOS', '#', 'saturday', '.', 'For', 'now', 'try', 'this', 'http', ':', '//t.co/Jrc6ktK9rT', '#', 'indiedev', '@', 'GamerRTer', '@', 'ShoutGamers', 'http', ':', '//t.co/bkWUjKEmju']\n",
      "What's the best way to get audio recordings from a 3rd party app off of an iOS device? Jailbreaking isn't an option. \t ['What', \"'s\", 'the', 'best', 'way', 'to', 'get', 'audio', 'recordings', 'from', 'a', '3rd', 'party', 'app', 'off', 'of', 'an', 'iOS', 'device', '?', 'Jailbreaking', 'is', \"n't\", 'an', 'option', '.']\n",
      "Five Great Free Apps and Games for iOS - August 27th Edition:  It's that time of the week again... http://t.co/QGkrIrKI28 #News #LCHBuzz \t ['Five', 'Great', 'Free', 'Apps', 'and', 'Games', 'for', 'iOS', '-', 'August', '27th', 'Edition', ':', 'It', \"'s\", 'that', 'time', 'of', 'the', 'week', 'again', '...', 'http', ':', '//t.co/QGkrIrKI28', '#', 'News', '#', 'LCHBuzz']\n",
      "@clayrussell @Nostradamion looks interesting but I've ALWAYS ended up back on iOS keyboard, always glitches with iOS 8/9 3rd party ones \t ['@', 'clayrussell', '@', 'Nostradamion', 'looks', 'interesting', 'but', 'I', \"'ve\", 'ALWAYS', 'ended', 'up', 'back', 'on', 'iOS', 'keyboard', ',', 'always', 'glitches', 'with', 'iOS', '8/9', '3rd', 'party', 'ones']\n",
      "See news through the eyes of real people &amp; be your own reporter with Fresco 2.0 for iOS, coming September 8th! http://t.co/IfLPLqqsmy \t ['See', 'news', 'through', 'the', 'eyes', 'of', 'real', 'people', '&', 'amp', ';', 'be', 'your', 'own', 'reporter', 'with', 'Fresco', '2.0', 'for', 'iOS', ',', 'coming', 'September', '8th', '!', 'http', ':', '//t.co/IfLPLqqsmy']\n",
      "Siri knows all about #Apple's iOS event on the 9th. #GiveUsAHint http://t.co/sHmTw46ELR \t ['Siri', 'knows', 'all', 'about', '#', 'Apple', \"'s\", 'iOS', 'event', 'on', 'the', '9th', '.', '#', 'GiveUsAHint', 'http', ':', '//t.co/sHmTw46ELR']\n"
     ]
    }
   ],
   "source": [
    "check_instances = 20\n",
    "for i in range(check_instances):\n",
    "    print(train_tweets[i], '\\t', tokenized[i])"
   ]
  }
 ],
 "metadata": {
  "kernelspec": {
   "display_name": "emotionalTweets",
   "language": "python",
   "name": "emotionaltweets"
  },
  "language_info": {
   "codemirror_mode": {
    "name": "ipython",
    "version": 3
   },
   "file_extension": ".py",
   "mimetype": "text/x-python",
   "name": "python",
   "nbconvert_exporter": "python",
   "pygments_lexer": "ipython3",
   "version": "3.7.6rc1"
  }
 },
 "nbformat": 4,
 "nbformat_minor": 1
}
